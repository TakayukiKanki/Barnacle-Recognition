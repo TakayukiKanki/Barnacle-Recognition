{
 "cells": [
  {
   "cell_type": "code",
   "execution_count": null,
   "metadata": {},
   "outputs": [],
   "source": [
    "def main_learning(code, best_C, best_gamma, test_size=0.05, k=1):\n",
    "    from sklearn.model_selection import train_test_split\n",
    "    from sklearn.svm import SVC\n",
    "    from sklearn.metrics import confusion_matrix\n",
    "    import time\n",
    "    from sklearn.model_selection import KFold\n",
    "    \n",
    "    _C =1.0*10**best_C\n",
    "    _gamma = 1.0*10**best_gamma    \n",
    "    accuracy=0\n",
    "    cnf_matrix=np.zeros((3,3))\n",
    "\n",
    "    if(k>1):\n",
    "        kf = KFold(n_splits = k, shuffle = False)\n",
    "        for train_index, test_index in kf.split(y):\n",
    "            X_train, X_test, y_train, y_test =X[train_index], X[test_index], y[train_index], y[test_index]\n",
    "            classifier=SVC(kernel='rbf',C=_C, gamma=_gamma)\n",
    "            start=time.time()\n",
    "            fit=classifier.fit(X_train,y_train)\n",
    "            end=time.time()\n",
    "            time_score=end-start\n",
    "            _accuracy=classifier.score(X_test, y_test)\n",
    "            predict_vec = classifier.predict(X_test)\n",
    "            _cnf_matrix=confusion_matrix(y_test,predict_vec)\n",
    "            accuracy=accuracy+_accuracy\n",
    "            cnf_matrix+=np.array(_cnf_matrix)\n",
    "            \n",
    "            with open('classifier_'+code+'.pickle','wb') as f:\n",
    "                pickle.dump((classifier,z[train_index],z[test_index]),f,protocol=4)\n",
    "    elif(k==1):\n",
    "        X_train, X_test, y_train, y_test, z_train, z_test = train_test_split(X,y,z,test_size=test_size)\n",
    "        classifier=SVC(kernel='rbf',C=_C, gamma=_gamma)\n",
    "        start=time.time()\n",
    "        fit=classifier.fit(X_train,y_train)\n",
    "        end=time.time()\n",
    "        time_score=end-start\n",
    "        accuracy=classifier.score(X_test, y_test)\n",
    "        predict_vec = classifier.predict(X_test)\n",
    "        cnf_matrix=confusion_matrix(y_test,predict_vec)\n",
    "        with open('classifier_'+code+'.pickle','wb') as f:\n",
    "            pickle.dump((classifier,z_train,z_test),f,protocol=4)\n",
    "    accuracy=accuracy/k\n",
    "    cnf_matrix=cnf_matrix/(k*len(y_test))\n",
    "    return(accuracy, time_score, cnf_matrix)\n",
    "\n",
    "\n",
    "class_names=['Null','Dead','Live']\n",
    "import itertools\n",
    "def plot_confusion_matrix(cm, classes,title='Confusion matrix',cmap=plt.cm.Blues):\n",
    "    cm = cm.astype('float') / cm.sum(axis=1)[:, np.newaxis]\n",
    "    plt.imshow(cm, interpolation='nearest', cmap=cmap)\n",
    "    plt.title(title)\n",
    "    plt.colorbar()\n",
    "    tick_marks = np.arange(len(classes))\n",
    "    plt.xticks(tick_marks, classes, rotation=45)\n",
    "    plt.yticks(tick_marks, classes)\n",
    "\n",
    "    fmt = '.2f' \n",
    "    thresh = cm.max() / 2.\n",
    "    for i, j in itertools.product(range(cm.shape[0]), range(cm.shape[1])):\n",
    "        plt.text(j, i, format(cm[i, j], fmt),\n",
    "                 horizontalalignment=\"center\",\n",
    "                 color=\"white\" if cm[i, j] > thresh else \"black\", \n",
    "                 fontsize=15)\n",
    "\n",
    "    plt.tight_layout()\n",
    "    plt.ylabel('True label',fontsize=20)\n",
    "    plt.xlabel('Predicted label',fontsize=20)\n",
    "\n",
    "plt.savefig(\"confusion_matrix.png\",dpi=300)\n"
   ]
  },
  {
   "cell_type": "code",
   "execution_count": null,
   "metadata": {},
   "outputs": [],
   "source": [
    "with open('score_params.pickle','rb') as f:\n",
    "    lists = pickle.load(f)\n",
    "[print(_list) for _list in lists];"
   ]
  },
  {
   "cell_type": "code",
   "execution_count": null,
   "metadata": {
    "scrolled": false
   },
   "outputs": [],
   "source": [
    "images_list=['FUNIST16','FUNIST32']\n",
    "func_list=['feature_img', 'feature_normal_img', 'feature_canny','feature_lbp_raw', 'feature_lbp', 'feature_hog','feature_hog_raw']\n",
    "k=0\n",
    "\n",
    "for _list in lists:\n",
    "        images=lists[k][\"images\"]\n",
    "        func=lists[k][\"func\"]\n",
    "        best_C=lists[k][\"best_C\"]\n",
    "        best_gamma=lists[k][\"best_gamma\"]\n",
    "        print(images, func, best_C, best_gamma)\n",
    "        with open('pickle\\\\'+func+images+'.pickle','rb') as f:\n",
    "            X,y,z=pickle.load(f)\n",
    "        loop=0\n",
    "        while(loop<3):\n",
    "            _accuracy, _time, _cnf_matrix = true_learning(code=str(k), best_C=best_C, best_gamma=best_gamma, test_size=0.05, k=1)\n",
    "            loop+=1\n",
    "            print(accuracy, time)\n",
    "            cnf_matrix+=_cnf_matrix\n",
    "            accuracy+=_accuracy\n",
    "            time+=_time\n",
    "            \n",
    "        cnf_matrix=cnf_matrix/loop\n",
    "        accuracy=accuracy/loop\n",
    "        time=time/loop\n",
    "        \n",
    "        plt.figure()\n",
    "        sns.heatmap(cnf_matrix)\n",
    "        plt.show()\n",
    "        \n",
    "        k=k+1"
   ]
  }
 ],
 "metadata": {
  "kernelspec": {
   "display_name": "Python 3",
   "language": "python",
   "name": "python3"
  },
  "language_info": {
   "codemirror_mode": {
    "name": "ipython",
    "version": 3
   },
   "file_extension": ".py",
   "mimetype": "text/x-python",
   "name": "python",
   "nbconvert_exporter": "python",
   "pygments_lexer": "ipython3",
   "version": "3.6.1"
  },
  "toc": {
   "colors": {
    "hover_highlight": "#DAA520",
    "navigate_num": "#000000",
    "navigate_text": "#333333",
    "running_highlight": "#FF0000",
    "selected_highlight": "#FFD700",
    "sidebar_border": "#EEEEEE",
    "wrapper_background": "#FFFFFF"
   },
   "moveMenuLeft": true,
   "nav_menu": {
    "height": "12px",
    "width": "252px"
   },
   "navigate_menu": true,
   "number_sections": true,
   "sideBar": true,
   "threshold": 4,
   "toc_cell": false,
   "toc_section_display": "block",
   "toc_window_display": false,
   "widenNotebook": false
  },
  "varInspector": {
   "cols": {
    "lenName": 16,
    "lenType": 16,
    "lenVar": 40
   },
   "kernels_config": {
    "python": {
     "delete_cmd_postfix": "",
     "delete_cmd_prefix": "del ",
     "library": "var_list.py",
     "varRefreshCmd": "print(var_dic_list())"
    },
    "r": {
     "delete_cmd_postfix": ") ",
     "delete_cmd_prefix": "rm(",
     "library": "var_list.r",
     "varRefreshCmd": "cat(var_dic_list()) "
    }
   },
   "types_to_exclude": [
    "module",
    "function",
    "builtin_function_or_method",
    "instance",
    "_Feature"
   ],
   "window_display": false
  }
 },
 "nbformat": 4,
 "nbformat_minor": 2
}
