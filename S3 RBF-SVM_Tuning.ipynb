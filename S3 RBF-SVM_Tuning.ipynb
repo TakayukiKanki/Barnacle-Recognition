{
 "cells": [
  {
   "cell_type": "code",
   "execution_count": null,
   "metadata": {},
   "outputs": [],
   "source": [
    "#timeout decorator\n",
    "def timeout(seconds):\n",
    "    import time\n",
    "    from functools import wraps\n",
    "    from multiprocessing.context import TimeoutError\n",
    "    from multiprocessing.pool import ThreadPool\n",
    "\n",
    "    def timeout_wrapper(func):\n",
    "        @wraps(func)\n",
    "        def wrapped(*args, **kwargs):\n",
    "            try:\n",
    "                pool = ThreadPool(processes=1)\n",
    "                result = pool.apply_async(func, args, kwargs)\n",
    "                return result.get(timeout=seconds)\n",
    "            #timeoverでNoneを返す\n",
    "            except TimeoutError:\n",
    "                return None\n",
    "        return wrapped\n",
    "    return timeout_wrapper"
   ]
  },
  {
   "cell_type": "code",
   "execution_count": null,
   "metadata": {
    "code_folding": [
     38,
     39
    ]
   },
   "outputs": [],
   "source": [
    "def rbf_svm_tuning(X_train, y_train, C_min, C_max, gamma_min, gamma_max, test_size=0.95, show=True, limit=300): \n",
    "    import time\n",
    "    from sklearn.svm import SVC\n",
    "    from sklearn.model_selection import train_test_split\n",
    "    accuracies=[]\n",
    "    times=[]\n",
    "    X_train, X_test, y_train, y_test= train_test_split(X,y,test_size=test_size)\n",
    "\n",
    "\n",
    "    para_range_C=range(C_min, C_max+1, 1)\n",
    "    para_range_gamma=range(gamma_min, gamma_max+1, 1)\n",
    "    #/_paras\n",
    "\n",
    "    #グリッドサーチ\n",
    "    for para_C in para_range_C:\n",
    "        for para_gamma in para_range_gamma:\n",
    "            _C=1.0*10**para_C\n",
    "            _gamma=1.0*10**para_gamma\n",
    "            classifier=SVC(kernel='rbf',C=_C, gamma=_gamma)\n",
    "            start=time.time()\n",
    "            \n",
    "            #Timeout if more than 300 seconds\n",
    "            @timeout(limit)\n",
    "            def learning():\n",
    "                fit=classifier.fit(X_train,y_train)\n",
    "                #evaluate accuracy for 1000 samples\n",
    "                accuracy=classifier.score(X_test[0:1000],y_test[0:1000])\n",
    "                end=time.time()\n",
    "                return(accuracy, end)\n",
    "            try:\n",
    "                accuracy, end = learning()                \n",
    "                accuracies.append(accuracy)\n",
    "                times.append(end-start)\n",
    "                sys.stdout.write('\\r_C:%09.2e, _gamma:%09.2e, accuracy:%.5f, time:%.3f               ' %(_C, _gamma, accuracy, end-start))\n",
    "                sys.stdout.flush()\n",
    "            except TypeError:\n",
    "                times.append(limit)\n",
    "                accuracies.append(np.nan)\n",
    "                sys.stdout.write('\\rtoo long time for learning                       ')\n",
    "                sys.stdout.flush()\n",
    "      \n",
    "      \n",
    "    sys.stdout.write('\\r               　　                                              ')\n",
    "    sys.stdout.flush()\n",
    "    \n",
    "    accuracies=np.array(accuracies).reshape(len(para_range_C),len(para_range_gamma))\n",
    "    times=np.array(times).reshape(len(para_range_C),len(para_range_gamma))\n",
    "    \n",
    "    if show==True:\n",
    "        fig, ax = plt.subplots()\n",
    "        cax=ax.imshow(accuracies, interpolation='nearest',cmap='viridis')\n",
    "        plt.grid(False)\n",
    "        cbar = fig.colorbar(cax, ticks=[-1, 0, 1], orientation='vertical')\n",
    "        plt.show()\n",
    "     \n",
    "    return(accuracies, times, para_range_C, para_range_gamma)\n",
    "\n",
    "\n",
    "def get_best_score(accuracies, times, para_range_C, para_range_gamma):\n",
    "    p_accuracy=np.uint(1-(np.max(accuracies)-accuracies)/(np.max(accuracies)))\n",
    "    p_time=(np.max(times)-times)/(np.max(times)-np.min(times))\n",
    "    performance = p_accuracy * p_time\n",
    "    arg_row=int(np.min(np.where(performance==np.max(performance))[0]))\n",
    "    arg_col=int(np.min(np.where(performance==np.max(performance))[1]))\n",
    "    \n",
    "    best_C=para_range_C[arg_row]\n",
    "    best_gamma=para_range_gamma[arg_col]\n",
    "    argbest_time=times[arg_row, arg_col]\n",
    "    \n",
    "    return(best_C, best_gamma, np.max(accuracies), argbest_time)\n",
    "\n"
   ]
  },
  {
   "cell_type": "code",
   "execution_count": null,
   "metadata": {
    "scrolled": false
   },
   "outputs": [],
   "source": [
    "images_list=['FUNIST16','FUNIST32']\n",
    "func_list=['feature_img', 'feature_normal_img', 'feature_canny','feature_lbp_raw', 'feature_lbp', 'feature_hog','feature_hog_raw']\n",
    "\n",
    "list_data=[]\n",
    "for images in images_list:\n",
    "    for func in func_list:\n",
    "        with open('pickle\\\\'+func+images+'.pickle','rb') as f:\n",
    "            X,y,z=pickle.load(f)\n",
    "        print('pickle\\\\'+func+images+'.pickle')\n",
    "        accuracies, times, para_range_C, para_range_gamma = rbf_svm_tuning(X, y, -20, 20, -20, 20, test_size=0.95, show=True, limit=300)\n",
    "        best_C, best_gamma, accuracy, time = get_best_score(accuracies, times, para_range_C, para_range_gamma)\n",
    "        data={\"time\":time, \"accuracy\":accuracy, \"best_C\":best_C, \"best_gamma\":best_gamma, \"func\":func, \"images\":images}\n",
    "        list_data.append(data)\n",
    "        print(\"func:\"+func)\n",
    "        print(\"images:\"+images)\n",
    "        print(\"_C:%09.2e, _gamma:%09.2e, accuracy:%.5f, time:%.3f\" %(1.0*10**best_C, 1.0*10**best_gamma, accuracy, time))\n",
    "        with open('pickle\\score_params.pickle','wb') as f:\n",
    "            pickle.dump(list_data, f)"
   ]
  }
 ],
 "metadata": {
  "kernelspec": {
   "display_name": "Python 3",
   "language": "python",
   "name": "python3"
  },
  "language_info": {
   "codemirror_mode": {
    "name": "ipython",
    "version": 3
   },
   "file_extension": ".py",
   "mimetype": "text/x-python",
   "name": "python",
   "nbconvert_exporter": "python",
   "pygments_lexer": "ipython3",
   "version": "3.6.1"
  },
  "toc": {
   "colors": {
    "hover_highlight": "#DAA520",
    "navigate_num": "#000000",
    "navigate_text": "#333333",
    "running_highlight": "#FF0000",
    "selected_highlight": "#FFD700",
    "sidebar_border": "#EEEEEE",
    "wrapper_background": "#FFFFFF"
   },
   "moveMenuLeft": true,
   "nav_menu": {
    "height": "12px",
    "width": "252px"
   },
   "navigate_menu": true,
   "number_sections": true,
   "sideBar": true,
   "threshold": 4,
   "toc_cell": false,
   "toc_section_display": "block",
   "toc_window_display": false,
   "widenNotebook": false
  },
  "varInspector": {
   "cols": {
    "lenName": 16,
    "lenType": 16,
    "lenVar": 40
   },
   "kernels_config": {
    "python": {
     "delete_cmd_postfix": "",
     "delete_cmd_prefix": "del ",
     "library": "var_list.py",
     "varRefreshCmd": "print(var_dic_list())"
    },
    "r": {
     "delete_cmd_postfix": ") ",
     "delete_cmd_prefix": "rm(",
     "library": "var_list.r",
     "varRefreshCmd": "cat(var_dic_list()) "
    }
   },
   "types_to_exclude": [
    "module",
    "function",
    "builtin_function_or_method",
    "instance",
    "_Feature"
   ],
   "window_display": false
  }
 },
 "nbformat": 4,
 "nbformat_minor": 2
}
