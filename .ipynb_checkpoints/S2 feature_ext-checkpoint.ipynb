{
 "cells": [
  {
   "cell_type": "code",
   "execution_count": null,
   "metadata": {},
   "outputs": [],
   "source": [
    "import numpy as np\n",
    "import os\n",
    "import pickle"
   ]
  },
  {
   "cell_type": "code",
   "execution_count": null,
   "metadata": {
    "code_folding": []
   },
   "outputs": [],
   "source": [
    "def feature_img(img):\n",
    "    import cv2\n",
    "    img=cv2.cvtColor(img, cv2.COLOR_RGB2GRAY)\n",
    "    return(img.reshape(-1))\n",
    "\n",
    "def feature_normal_img(img):\n",
    "    import cv2\n",
    "    img=cv2.cvtColor(img, cv2.COLOR_RGB2GRAY)\n",
    "    img=img/255\n",
    "    return(img.reshape(-1))\n",
    "\n",
    "def feature_canny(img,*args):\n",
    "    import cv2\n",
    "    img = cv2.cvtColor(img, cv2.COLOR_RGB2GRAY)\n",
    "    edges = cv2.Canny(img,100,200)\n",
    "    edges = edges / 255\n",
    "    return(edges.reshape(-1))\n",
    "\n",
    "def feature_lbp_raw(img,LBP_POINTS=8,LBP_RADIUS=1):\n",
    "    import cv2\n",
    "    from skimage import feature\n",
    "    img = cv2.cvtColor(img, cv2.COLOR_RGB2GRAY)\n",
    "    lbp=feature.local_binary_pattern(img,LBP_POINTS,LBP_RADIUS, 'uniform')\n",
    "    _feature=lbp.reshape(-1)\n",
    "    return(_feature)\n",
    "\n",
    "def feature_lbp(img,LBP_POINTS=8,LBP_RADIUS=1,CELL_SIZE=4):\n",
    "    import cv2\n",
    "    from skimage import feature\n",
    "    img = cv2.cvtColor(img, cv2.COLOR_RGB2GRAY)\n",
    "    lbp=feature.local_binary_pattern(img,LBP_POINTS,LBP_RADIUS, 'uniform')\n",
    "    bins=LBP_POINTS+2\n",
    "    histogram=np.zeros(shape=(np.int(img.shape[0]/CELL_SIZE),np.int(img.shape[1]/CELL_SIZE),np.int(bins)))\n",
    "    for y in range(0,img.shape[0]-CELL_SIZE,CELL_SIZE):\n",
    "            for x in range(0,img.shape[1]-CELL_SIZE,CELL_SIZE):\n",
    "                for dy in range(CELL_SIZE):\n",
    "                    for dx in range(CELL_SIZE):\n",
    "                        histogram[np.int(y/CELL_SIZE),np.int(x/CELL_SIZE),int(lbp[y+dy,x+dx])]+=1\n",
    "    _feature=histogram.reshape(-1)\n",
    "    return(_feature)\n",
    "\n",
    "def feature_hog(img):\n",
    "    import cv2\n",
    "    bin_n = 16\n",
    "    img = cv2.cvtColor(img, cv2.COLOR_RGB2GRAY)\n",
    "    gx = cv2.Sobel(img, cv2.CV_32F, 1, 0)\n",
    "    gy = cv2.Sobel(img, cv2.CV_32F, 0, 1)\n",
    "    mag, ang = cv2.cartToPolar(gx, gy)\n",
    "    bins = np.int32(bin_n*ang/(2*np.pi))\n",
    "    bin_cells = bins[:10,:10], bins[10:,:10], bins[:10,10:], bins[10:,10:]\n",
    "    mag_cells = mag[:10,:10], mag[10:,:10], mag[:10,10:], mag[10:,10:]\n",
    "    hists = [np.bincount(b.ravel(), m.ravel(), bin_n) for b, m in zip(bin_cells, mag_cells)]\n",
    "    _feature = np.hstack(hists)\n",
    "    return(_feature)\n",
    "\n",
    "def feature_hog_raw(img):\n",
    "    import cv2\n",
    "    bin_n = 16\n",
    "    img = cv2.cvtColor(img, cv2.COLOR_RGB2GRAY)\n",
    "    gx = cv2.Sobel(img, cv2.CV_32F, 1, 0)\n",
    "    gy = cv2.Sobel(img, cv2.CV_32F, 0, 1)\n",
    "    mag, ang = cv2.cartToPolar(gx, gy)\n",
    "    _feature = mag.reshape(-1)\n",
    "    return(_feature)"
   ]
  },
  {
   "cell_type": "code",
   "execution_count": null,
   "metadata": {},
   "outputs": [],
   "source": [
    "def feature_main(feature_func,path_list,*args):   \n",
    "    def feature_ext(path_list,feature_func=feature_func,  *args):\n",
    "        features=[]\n",
    "        for path in path_list:\n",
    "            img=cv2.imread(path)\n",
    "            _feature=feature_func(img,*args)\n",
    "            features.append(_feature)\n",
    "        return(features)\n",
    "    \n",
    "    def z_gen(lis):\n",
    "        return(np.array(lis, dtype=object))\n",
    "    \n",
    "    positive_samples=feature_ext(feature_func=feature_func, path_list=path_list[0])\n",
    "    negative_samples=feature_ext(feature_func=feature_func, path_list=path_list[1])\n",
    "    null_samples=feature_ext(feature_func=feature_func, path_list=path_list[2])\n",
    "    \n",
    "    z_y, z_g, z_n = z_gen(path_list[0]), z_gen(path_list[1]), z_gen(path_list[2])\n",
    "    n_positive, n_negative, n_null=len(positive_samples), len(negative_samples), len(null_samples)\n",
    "    X=np.array(positive_samples+negative_samples+null_samples)\n",
    "    y=np.array([2 for i in range(n_positive)]+[1 for i in range(n_negative)]+[0 for i in range(n_null)])\n",
    "    z=np.hstack((z_y,z_g,z_n))\n",
    "    return(X,y,z)"
   ]
  },
  {
   "cell_type": "code",
   "execution_count": null,
   "metadata": {},
   "outputs": [],
   "source": [
    "#not defined in this scripts\n",
    "func_list=[feature_img, feature_normal_img, feature_canny, feature_lbp_raw, feature_lbp, feature_hog, feature_hog_raw]\n",
    "images_list=[FUNIST32, FUNIST16]\n",
    "\n",
    "\n",
    "for func in func_list:\n",
    "    for images in images_list:\n",
    "        X,y,z=feature_main(feature_func=func, path_list=images)\n",
    "        var_name = lambda val : [k for k, v in globals().items() if id(v) == id(val)]\n",
    "        with open('pickle\\\\'+func.__name__+var_name(images)[0]+'.pickle',mode='wb') as f:\n",
    "            pickle.dump((X,y,z),f,protocol=4)"
   ]
  }
 ],
 "metadata": {
  "kernelspec": {
   "display_name": "Python 3",
   "language": "python",
   "name": "python3"
  },
  "language_info": {
   "codemirror_mode": {
    "name": "ipython",
    "version": 3
   },
   "file_extension": ".py",
   "mimetype": "text/x-python",
   "name": "python",
   "nbconvert_exporter": "python",
   "pygments_lexer": "ipython3",
   "version": "3.6.1"
  },
  "toc": {
   "colors": {
    "hover_highlight": "#DAA520",
    "navigate_num": "#000000",
    "navigate_text": "#333333",
    "running_highlight": "#FF0000",
    "selected_highlight": "#FFD700",
    "sidebar_border": "#EEEEEE",
    "wrapper_background": "#FFFFFF"
   },
   "moveMenuLeft": true,
   "nav_menu": {
    "height": "12px",
    "width": "252px"
   },
   "navigate_menu": true,
   "number_sections": true,
   "sideBar": true,
   "threshold": 4,
   "toc_cell": false,
   "toc_section_display": "block",
   "toc_window_display": false,
   "widenNotebook": false
  },
  "varInspector": {
   "cols": {
    "lenName": 16,
    "lenType": 16,
    "lenVar": 40
   },
   "kernels_config": {
    "python": {
     "delete_cmd_postfix": "",
     "delete_cmd_prefix": "del ",
     "library": "var_list.py",
     "varRefreshCmd": "print(var_dic_list())"
    },
    "r": {
     "delete_cmd_postfix": ") ",
     "delete_cmd_prefix": "rm(",
     "library": "var_list.r",
     "varRefreshCmd": "cat(var_dic_list()) "
    }
   },
   "types_to_exclude": [
    "module",
    "function",
    "builtin_function_or_method",
    "instance",
    "_Feature"
   ],
   "window_display": false
  }
 },
 "nbformat": 4,
 "nbformat_minor": 2
}
